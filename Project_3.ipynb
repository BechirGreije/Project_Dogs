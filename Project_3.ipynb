{
 "cells": [
  {
   "cell_type": "markdown",
   "metadata": {},
   "source": [
    "### 1) Hospitals / Vaccines / Other Medical Requirements / Diseases and Advice\n",
    "\n",
    "##### - Pet hospitals near you and open in case of emergency // return review of the hospitals at some point, or rank by user rating\n",
    "##### - Pet shops near you and open or not, ranked by user rating\n",
    "##### - Checklist for things like vaccines, pills for parasites, collars for fleas etc... and a place to input date of vaccinations and pills so we get back a date of when you have to do it again\n",
    "#### - List of common diseases from a credible source and you write whichever one you want to know more about and you get back a short paragraph explaining plus a link with more information\n",
    "\n",
    "\n",
    "\n"
   ]
  },
  {
   "cell_type": "markdown",
   "metadata": {},
   "source": [
    "### 2) Food, Treats, and Accessories \n",
    "\n",
    "##### - Food calculator with the variables age, food, price // return 3-5 different foods and links to shops to order\n",
    "\n",
    "##### - Food calculator with the variables age, food, price\n",
    "\n",
    "##### - Treats: differentiation between healthy and more commercial treats // (see what kind of info we can find on health and make a recommendation)\n",
    "\n",
    "##### - Accessories: Harnesses, Leaches, Collars, Clothes/Dresses (maybe return information on each of these categories, top 10 popular items for example etc..)"
   ]
  },
  {
   "cell_type": "markdown",
   "metadata": {},
   "source": [
    "### 3) Entertainment - Beaches / Parks / Music\n",
    "\n",
    "##### - Which beaches allow to bring dogs\n",
    "##### - Parks and dogparks near you\n",
    "##### - Show which restaurants that allow dogs are near the beaches and parks/dog parks\n",
    "##### - Music -> we'll make a playlist of soothing music for dogs"
   ]
  },
  {
   "cell_type": "code",
   "execution_count": null,
   "metadata": {},
   "outputs": [],
   "source": []
  },
  {
   "cell_type": "markdown",
   "metadata": {},
   "source": []
  }
 ],
 "metadata": {
  "kernelspec": {
   "display_name": "Python 3.9.12 ('julyironhack')",
   "language": "python",
   "name": "python3"
  },
  "language_info": {
   "name": "python",
   "version": "3.9.12"
  },
  "orig_nbformat": 4,
  "vscode": {
   "interpreter": {
    "hash": "d4f28bf35b1054d239a9ee1bfa6fb652dd82e0e5a8ae6f2857cd28eda2674f2d"
   }
  }
 },
 "nbformat": 4,
 "nbformat_minor": 2
}
